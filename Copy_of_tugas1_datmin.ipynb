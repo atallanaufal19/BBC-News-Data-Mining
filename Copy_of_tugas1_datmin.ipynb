{
  "cells": [
    {
      "cell_type": "code",
      "execution_count": 2,
      "metadata": {
        "colab": {
          "base_uri": "https://localhost:8080/"
        },
        "id": "xR6uLVFqro2n",
        "outputId": "2e82e8b4-2795-437d-b12d-5b8470788b8e"
      },
      "outputs": [
        {
          "name": "stderr",
          "output_type": "stream",
          "text": [
            "[nltk_data] Downloading package punkt to\n",
            "[nltk_data]     C:\\Users\\Lenovo\\AppData\\Roaming\\nltk_data...\n",
            "[nltk_data]   Package punkt is already up-to-date!\n",
            "[nltk_data] Downloading package stopwords to\n",
            "[nltk_data]     C:\\Users\\Lenovo\\AppData\\Roaming\\nltk_data...\n",
            "[nltk_data]   Package stopwords is already up-to-date!\n",
            "[nltk_data] Downloading package wordnet to\n",
            "[nltk_data]     C:\\Users\\Lenovo\\AppData\\Roaming\\nltk_data...\n",
            "[nltk_data]   Package wordnet is already up-to-date!\n"
          ]
        }
      ],
      "source": [
        "import pandas as pd\n",
        "import os\n",
        "import zipfile\n",
        "import nltk\n",
        "nltk.download('punkt')\n",
        "nltk.download('stopwords')\n",
        "nltk.download('wordnet')\n",
        "from nltk.tokenize import word_tokenize\n",
        "from nltk.corpus import stopwords\n",
        "from nltk.stem import PorterStemmer\n",
        "from nltk.stem import WordNetLemmatizer\n",
        "from sklearn.feature_extraction.text import CountVectorizer\n",
        "import re"
      ]
    },
    {
      "cell_type": "code",
      "execution_count": 3,
      "metadata": {
        "id": "U-tlXxGusjg-"
      },
      "outputs": [],
      "source": [
        "zip_file_path = \"BBC_News.zip\"\n",
        "folder_path = \"BBC_News\"\n",
        "with zipfile.ZipFile(zip_file_path, 'r') as zip_ref:\n",
        "    zip_ref.extractall(folder_path)"
      ]
    },
    {
      "cell_type": "code",
      "execution_count": 41,
      "metadata": {
        "id": "WCCRZEGCzaVY"
      },
      "outputs": [],
      "source": [
        "folder_path = \"BBC\"\n",
        "# Menginisialisasi list kosong untuk menyimpan data gambar dan label\n",
        "text = []\n",
        "label = []\n",
        "\n",
        "\n",
        "# Melakukan iterasi pada setiap folder di dalam folder_path\n",
        "for folder_name in ['business', 'entertainment', 'politics', 'sport', 'tech']:\n",
        "    folder_dir = os.path.join(folder_path, folder_name)\n",
        "    if os.path.isdir(folder_dir):\n",
        "        # Melakukan iterasi pada setiap file di dalam folder\n",
        "        for filename in os.listdir(folder_dir):\n",
        "            file_path = os.path.join(folder_dir, filename)\n",
        "            if os.path.isfile(file_path):\n",
        "                # Menambahkan path file (gambar) ke dalam list image_data\n",
        "                text.append(file_path)\n",
        "                # Menambahkan label folder ke dalam list label_data\n",
        "                label.append(folder_name)\n"
      ]
    },
    {
      "cell_type": "code",
      "execution_count": 42,
      "metadata": {
        "colab": {
          "base_uri": "https://localhost:8080/",
          "height": 424
        },
        "id": "e7ZIDM8qz8YU",
        "outputId": "5378fd39-16e7-4d87-aa31-8fd41ca48b77"
      },
      "outputs": [
        {
          "data": {
            "text/html": [
              "<div>\n",
              "<style scoped>\n",
              "    .dataframe tbody tr th:only-of-type {\n",
              "        vertical-align: middle;\n",
              "    }\n",
              "\n",
              "    .dataframe tbody tr th {\n",
              "        vertical-align: top;\n",
              "    }\n",
              "\n",
              "    .dataframe thead th {\n",
              "        text-align: right;\n",
              "    }\n",
              "</style>\n",
              "<table border=\"1\" class=\"dataframe\">\n",
              "  <thead>\n",
              "    <tr style=\"text-align: right;\">\n",
              "      <th></th>\n",
              "      <th>text</th>\n",
              "      <th>label</th>\n",
              "    </tr>\n",
              "  </thead>\n",
              "  <tbody>\n",
              "    <tr>\n",
              "      <th>0</th>\n",
              "      <td>BBC\\business\\001.txt</td>\n",
              "      <td>business</td>\n",
              "    </tr>\n",
              "    <tr>\n",
              "      <th>1</th>\n",
              "      <td>BBC\\business\\002.txt</td>\n",
              "      <td>business</td>\n",
              "    </tr>\n",
              "    <tr>\n",
              "      <th>2</th>\n",
              "      <td>BBC\\business\\003.txt</td>\n",
              "      <td>business</td>\n",
              "    </tr>\n",
              "    <tr>\n",
              "      <th>3</th>\n",
              "      <td>BBC\\business\\004.txt</td>\n",
              "      <td>business</td>\n",
              "    </tr>\n",
              "    <tr>\n",
              "      <th>4</th>\n",
              "      <td>BBC\\business\\005.txt</td>\n",
              "      <td>business</td>\n",
              "    </tr>\n",
              "    <tr>\n",
              "      <th>...</th>\n",
              "      <td>...</td>\n",
              "      <td>...</td>\n",
              "    </tr>\n",
              "    <tr>\n",
              "      <th>2220</th>\n",
              "      <td>BBC\\tech\\397.txt</td>\n",
              "      <td>tech</td>\n",
              "    </tr>\n",
              "    <tr>\n",
              "      <th>2221</th>\n",
              "      <td>BBC\\tech\\398.txt</td>\n",
              "      <td>tech</td>\n",
              "    </tr>\n",
              "    <tr>\n",
              "      <th>2222</th>\n",
              "      <td>BBC\\tech\\399.txt</td>\n",
              "      <td>tech</td>\n",
              "    </tr>\n",
              "    <tr>\n",
              "      <th>2223</th>\n",
              "      <td>BBC\\tech\\400.txt</td>\n",
              "      <td>tech</td>\n",
              "    </tr>\n",
              "    <tr>\n",
              "      <th>2224</th>\n",
              "      <td>BBC\\tech\\401.txt</td>\n",
              "      <td>tech</td>\n",
              "    </tr>\n",
              "  </tbody>\n",
              "</table>\n",
              "<p>2225 rows × 2 columns</p>\n",
              "</div>"
            ],
            "text/plain": [
              "                      text     label\n",
              "0     BBC\\business\\001.txt  business\n",
              "1     BBC\\business\\002.txt  business\n",
              "2     BBC\\business\\003.txt  business\n",
              "3     BBC\\business\\004.txt  business\n",
              "4     BBC\\business\\005.txt  business\n",
              "...                    ...       ...\n",
              "2220      BBC\\tech\\397.txt      tech\n",
              "2221      BBC\\tech\\398.txt      tech\n",
              "2222      BBC\\tech\\399.txt      tech\n",
              "2223      BBC\\tech\\400.txt      tech\n",
              "2224      BBC\\tech\\401.txt      tech\n",
              "\n",
              "[2225 rows x 2 columns]"
            ]
          },
          "execution_count": 42,
          "metadata": {},
          "output_type": "execute_result"
        }
      ],
      "source": [
        "# Membuat DataFrame dari list image_data dan label_data\n",
        "df = pd.DataFrame({'text': text, 'label': label})\n",
        "\n",
        "# Menampilkan DataFrame\n",
        "df"
      ]
    },
    {
      "cell_type": "code",
      "execution_count": 43,
      "metadata": {
        "colab": {
          "base_uri": "https://localhost:8080/",
          "height": 424
        },
        "id": "lhvZD8Nv09HW",
        "outputId": "e6444c59-3ba9-46c8-994f-973da8f74e99"
      },
      "outputs": [
        {
          "data": {
            "text/html": [
              "<div>\n",
              "<style scoped>\n",
              "    .dataframe tbody tr th:only-of-type {\n",
              "        vertical-align: middle;\n",
              "    }\n",
              "\n",
              "    .dataframe tbody tr th {\n",
              "        vertical-align: top;\n",
              "    }\n",
              "\n",
              "    .dataframe thead th {\n",
              "        text-align: right;\n",
              "    }\n",
              "</style>\n",
              "<table border=\"1\" class=\"dataframe\">\n",
              "  <thead>\n",
              "    <tr style=\"text-align: right;\">\n",
              "      <th></th>\n",
              "      <th>text</th>\n",
              "      <th>label</th>\n",
              "    </tr>\n",
              "  </thead>\n",
              "  <tbody>\n",
              "    <tr>\n",
              "      <th>0</th>\n",
              "      <td>TimeWarner said fourth quarter sales rose 2% t...</td>\n",
              "      <td>business</td>\n",
              "    </tr>\n",
              "    <tr>\n",
              "      <th>1</th>\n",
              "      <td>The dollar has hit its highest level against t...</td>\n",
              "      <td>business</td>\n",
              "    </tr>\n",
              "    <tr>\n",
              "      <th>2</th>\n",
              "      <td>Yukos' owner Menatep Group says it will ask Ro...</td>\n",
              "      <td>business</td>\n",
              "    </tr>\n",
              "    <tr>\n",
              "      <th>3</th>\n",
              "      <td>Rod Eddington, BA's chief executive, said the ...</td>\n",
              "      <td>business</td>\n",
              "    </tr>\n",
              "    <tr>\n",
              "      <th>4</th>\n",
              "      <td>Pernod has reduced the debt it took on to fund...</td>\n",
              "      <td>business</td>\n",
              "    </tr>\n",
              "    <tr>\n",
              "      <th>...</th>\n",
              "      <td>...</td>\n",
              "      <td>...</td>\n",
              "    </tr>\n",
              "    <tr>\n",
              "      <th>2220</th>\n",
              "      <td>BT is introducing two initiatives to help beat...</td>\n",
              "      <td>tech</td>\n",
              "    </tr>\n",
              "    <tr>\n",
              "      <th>2221</th>\n",
              "      <td>A third of them read unsolicited junk e-mail a...</td>\n",
              "      <td>tech</td>\n",
              "    </tr>\n",
              "    <tr>\n",
              "      <th>2222</th>\n",
              "      <td>This goes to the heart of the European project...</td>\n",
              "      <td>tech</td>\n",
              "    </tr>\n",
              "    <tr>\n",
              "      <th>2223</th>\n",
              "      <td>Amit Yoran was director of the National Cyber ...</td>\n",
              "      <td>tech</td>\n",
              "    </tr>\n",
              "    <tr>\n",
              "      <th>2224</th>\n",
              "      <td>He says that in the world of online gaming suc...</td>\n",
              "      <td>tech</td>\n",
              "    </tr>\n",
              "  </tbody>\n",
              "</table>\n",
              "<p>2225 rows × 2 columns</p>\n",
              "</div>"
            ],
            "text/plain": [
              "                                                   text     label\n",
              "0     TimeWarner said fourth quarter sales rose 2% t...  business\n",
              "1     The dollar has hit its highest level against t...  business\n",
              "2     Yukos' owner Menatep Group says it will ask Ro...  business\n",
              "3     Rod Eddington, BA's chief executive, said the ...  business\n",
              "4     Pernod has reduced the debt it took on to fund...  business\n",
              "...                                                 ...       ...\n",
              "2220  BT is introducing two initiatives to help beat...      tech\n",
              "2221  A third of them read unsolicited junk e-mail a...      tech\n",
              "2222  This goes to the heart of the European project...      tech\n",
              "2223  Amit Yoran was director of the National Cyber ...      tech\n",
              "2224  He says that in the world of online gaming suc...      tech\n",
              "\n",
              "[2225 rows x 2 columns]"
            ]
          },
          "execution_count": 43,
          "metadata": {},
          "output_type": "execute_result"
        }
      ],
      "source": [
        "# Meloopi setiap baris dalam dataframe\n",
        "for index, row in df.iterrows():\n",
        "    file_path = row['text']  # Mendapatkan path file txt dari kolom \"text\"\n",
        "    with open(file_path, 'r') as file:\n",
        "        content = file.read()  # Membaca isi file txt\n",
        "        # Mengupdate nilai kolom \"text\" dalam dataframe dengan isi file txt\n",
        "        df.at[index, 'text'] = content\n",
        "\n",
        "# Menampilkan dataframe setelah file txt terbuka\n",
        "df"
      ]
    },
    {
      "cell_type": "code",
      "execution_count": 44,
      "metadata": {
        "colab": {
          "base_uri": "https://localhost:8080/"
        },
        "id": "MCC1WgW14YQQ",
        "outputId": "64274a79-612b-4aa5-8924-e5f9c7d7d056"
      },
      "outputs": [
        {
          "data": {
            "text/plain": [
              "sport            511\n",
              "business         510\n",
              "politics         417\n",
              "tech             401\n",
              "entertainment    386\n",
              "Name: label, dtype: int64"
            ]
          },
          "execution_count": 44,
          "metadata": {},
          "output_type": "execute_result"
        }
      ],
      "source": [
        "df['label'].value_counts()"
      ]
    },
    {
      "attachments": {},
      "cell_type": "markdown",
      "metadata": {
        "id": "2H6OWIxWUwbD"
      },
      "source": [
        "#Cleaning"
      ]
    },
    {
      "cell_type": "code",
      "execution_count": 45,
      "metadata": {
        "id": "UYB8wrypLqsz"
      },
      "outputs": [],
      "source": [
        "df['text'] = df['text'].apply(lambda x: re.sub(r'[^\\w\\s]','',x))"
      ]
    },
    {
      "cell_type": "code",
      "execution_count": 46,
      "metadata": {
        "colab": {
          "base_uri": "https://localhost:8080/",
          "height": 424
        },
        "id": "MfCKo9UeUdTh",
        "outputId": "25cc27aa-d081-4cde-f466-af20ffb7a0d5"
      },
      "outputs": [
        {
          "data": {
            "text/html": [
              "<div>\n",
              "<style scoped>\n",
              "    .dataframe tbody tr th:only-of-type {\n",
              "        vertical-align: middle;\n",
              "    }\n",
              "\n",
              "    .dataframe tbody tr th {\n",
              "        vertical-align: top;\n",
              "    }\n",
              "\n",
              "    .dataframe thead th {\n",
              "        text-align: right;\n",
              "    }\n",
              "</style>\n",
              "<table border=\"1\" class=\"dataframe\">\n",
              "  <thead>\n",
              "    <tr style=\"text-align: right;\">\n",
              "      <th></th>\n",
              "      <th>text</th>\n",
              "      <th>label</th>\n",
              "    </tr>\n",
              "  </thead>\n",
              "  <tbody>\n",
              "    <tr>\n",
              "      <th>0</th>\n",
              "      <td>TimeWarner said fourth quarter sales rose 2 to...</td>\n",
              "      <td>business</td>\n",
              "    </tr>\n",
              "    <tr>\n",
              "      <th>1</th>\n",
              "      <td>The dollar has hit its highest level against t...</td>\n",
              "      <td>business</td>\n",
              "    </tr>\n",
              "    <tr>\n",
              "      <th>2</th>\n",
              "      <td>Yukos owner Menatep Group says it will ask Ros...</td>\n",
              "      <td>business</td>\n",
              "    </tr>\n",
              "    <tr>\n",
              "      <th>3</th>\n",
              "      <td>Rod Eddington BAs chief executive said the res...</td>\n",
              "      <td>business</td>\n",
              "    </tr>\n",
              "    <tr>\n",
              "      <th>4</th>\n",
              "      <td>Pernod has reduced the debt it took on to fund...</td>\n",
              "      <td>business</td>\n",
              "    </tr>\n",
              "    <tr>\n",
              "      <th>...</th>\n",
              "      <td>...</td>\n",
              "      <td>...</td>\n",
              "    </tr>\n",
              "    <tr>\n",
              "      <th>2220</th>\n",
              "      <td>BT is introducing two initiatives to help beat...</td>\n",
              "      <td>tech</td>\n",
              "    </tr>\n",
              "    <tr>\n",
              "      <th>2221</th>\n",
              "      <td>A third of them read unsolicited junk email an...</td>\n",
              "      <td>tech</td>\n",
              "    </tr>\n",
              "    <tr>\n",
              "      <th>2222</th>\n",
              "      <td>This goes to the heart of the European project...</td>\n",
              "      <td>tech</td>\n",
              "    </tr>\n",
              "    <tr>\n",
              "      <th>2223</th>\n",
              "      <td>Amit Yoran was director of the National Cyber ...</td>\n",
              "      <td>tech</td>\n",
              "    </tr>\n",
              "    <tr>\n",
              "      <th>2224</th>\n",
              "      <td>He says that in the world of online gaming suc...</td>\n",
              "      <td>tech</td>\n",
              "    </tr>\n",
              "  </tbody>\n",
              "</table>\n",
              "<p>2225 rows × 2 columns</p>\n",
              "</div>"
            ],
            "text/plain": [
              "                                                   text     label\n",
              "0     TimeWarner said fourth quarter sales rose 2 to...  business\n",
              "1     The dollar has hit its highest level against t...  business\n",
              "2     Yukos owner Menatep Group says it will ask Ros...  business\n",
              "3     Rod Eddington BAs chief executive said the res...  business\n",
              "4     Pernod has reduced the debt it took on to fund...  business\n",
              "...                                                 ...       ...\n",
              "2220  BT is introducing two initiatives to help beat...      tech\n",
              "2221  A third of them read unsolicited junk email an...      tech\n",
              "2222  This goes to the heart of the European project...      tech\n",
              "2223  Amit Yoran was director of the National Cyber ...      tech\n",
              "2224  He says that in the world of online gaming suc...      tech\n",
              "\n",
              "[2225 rows x 2 columns]"
            ]
          },
          "execution_count": 46,
          "metadata": {},
          "output_type": "execute_result"
        }
      ],
      "source": [
        "df"
      ]
    },
    {
      "cell_type": "code",
      "execution_count": 47,
      "metadata": {
        "colab": {
          "base_uri": "https://localhost:8080/",
          "height": 424
        },
        "id": "1yjaeKmM4MTa",
        "outputId": "610b78c5-9fef-4444-a296-d9624a2ea108"
      },
      "outputs": [
        {
          "data": {
            "text/html": [
              "<div>\n",
              "<style scoped>\n",
              "    .dataframe tbody tr th:only-of-type {\n",
              "        vertical-align: middle;\n",
              "    }\n",
              "\n",
              "    .dataframe tbody tr th {\n",
              "        vertical-align: top;\n",
              "    }\n",
              "\n",
              "    .dataframe thead th {\n",
              "        text-align: right;\n",
              "    }\n",
              "</style>\n",
              "<table border=\"1\" class=\"dataframe\">\n",
              "  <thead>\n",
              "    <tr style=\"text-align: right;\">\n",
              "      <th></th>\n",
              "      <th>text</th>\n",
              "      <th>label</th>\n",
              "    </tr>\n",
              "  </thead>\n",
              "  <tbody>\n",
              "    <tr>\n",
              "      <th>0</th>\n",
              "      <td>timewarner said fourth quarter sales rose 2 to...</td>\n",
              "      <td>business</td>\n",
              "    </tr>\n",
              "    <tr>\n",
              "      <th>1</th>\n",
              "      <td>the dollar has hit its highest level against t...</td>\n",
              "      <td>business</td>\n",
              "    </tr>\n",
              "    <tr>\n",
              "      <th>2</th>\n",
              "      <td>yukos owner menatep group says it will ask ros...</td>\n",
              "      <td>business</td>\n",
              "    </tr>\n",
              "    <tr>\n",
              "      <th>3</th>\n",
              "      <td>rod eddington bas chief executive said the res...</td>\n",
              "      <td>business</td>\n",
              "    </tr>\n",
              "    <tr>\n",
              "      <th>4</th>\n",
              "      <td>pernod has reduced the debt it took on to fund...</td>\n",
              "      <td>business</td>\n",
              "    </tr>\n",
              "    <tr>\n",
              "      <th>...</th>\n",
              "      <td>...</td>\n",
              "      <td>...</td>\n",
              "    </tr>\n",
              "    <tr>\n",
              "      <th>2220</th>\n",
              "      <td>bt is introducing two initiatives to help beat...</td>\n",
              "      <td>tech</td>\n",
              "    </tr>\n",
              "    <tr>\n",
              "      <th>2221</th>\n",
              "      <td>a third of them read unsolicited junk email an...</td>\n",
              "      <td>tech</td>\n",
              "    </tr>\n",
              "    <tr>\n",
              "      <th>2222</th>\n",
              "      <td>this goes to the heart of the european project...</td>\n",
              "      <td>tech</td>\n",
              "    </tr>\n",
              "    <tr>\n",
              "      <th>2223</th>\n",
              "      <td>amit yoran was director of the national cyber ...</td>\n",
              "      <td>tech</td>\n",
              "    </tr>\n",
              "    <tr>\n",
              "      <th>2224</th>\n",
              "      <td>he says that in the world of online gaming suc...</td>\n",
              "      <td>tech</td>\n",
              "    </tr>\n",
              "  </tbody>\n",
              "</table>\n",
              "<p>2225 rows × 2 columns</p>\n",
              "</div>"
            ],
            "text/plain": [
              "                                                   text     label\n",
              "0     timewarner said fourth quarter sales rose 2 to...  business\n",
              "1     the dollar has hit its highest level against t...  business\n",
              "2     yukos owner menatep group says it will ask ros...  business\n",
              "3     rod eddington bas chief executive said the res...  business\n",
              "4     pernod has reduced the debt it took on to fund...  business\n",
              "...                                                 ...       ...\n",
              "2220  bt is introducing two initiatives to help beat...      tech\n",
              "2221  a third of them read unsolicited junk email an...      tech\n",
              "2222  this goes to the heart of the european project...      tech\n",
              "2223  amit yoran was director of the national cyber ...      tech\n",
              "2224  he says that in the world of online gaming suc...      tech\n",
              "\n",
              "[2225 rows x 2 columns]"
            ]
          },
          "execution_count": 47,
          "metadata": {},
          "output_type": "execute_result"
        }
      ],
      "source": [
        "#Menyamaratakan Huruf kapital menjadi huruf kecil\n",
        "df['text'] = [item.lower() for item in df['text']]\n",
        "df"
      ]
    },
    {
      "cell_type": "code",
      "execution_count": 48,
      "metadata": {
        "colab": {
          "base_uri": "https://localhost:8080/",
          "height": 478
        },
        "id": "9D27RnDC49kW",
        "outputId": "8b7f16a0-6a97-4caf-e8a8-c93072f32f2c"
      },
      "outputs": [
        {
          "name": "stderr",
          "output_type": "stream",
          "text": [
            "C:\\Users\\Lenovo\\AppData\\Local\\Temp\\ipykernel_3952\\607194416.py:2: FutureWarning: The default value of regex will change from True to False in a future version.\n",
            "  df['text'] = df['text'].str.replace('\\d+', '')\n"
          ]
        },
        {
          "data": {
            "text/html": [
              "<div>\n",
              "<style scoped>\n",
              "    .dataframe tbody tr th:only-of-type {\n",
              "        vertical-align: middle;\n",
              "    }\n",
              "\n",
              "    .dataframe tbody tr th {\n",
              "        vertical-align: top;\n",
              "    }\n",
              "\n",
              "    .dataframe thead th {\n",
              "        text-align: right;\n",
              "    }\n",
              "</style>\n",
              "<table border=\"1\" class=\"dataframe\">\n",
              "  <thead>\n",
              "    <tr style=\"text-align: right;\">\n",
              "      <th></th>\n",
              "      <th>text</th>\n",
              "      <th>label</th>\n",
              "    </tr>\n",
              "  </thead>\n",
              "  <tbody>\n",
              "    <tr>\n",
              "      <th>0</th>\n",
              "      <td>timewarner said fourth quarter sales rose  to ...</td>\n",
              "      <td>business</td>\n",
              "    </tr>\n",
              "    <tr>\n",
              "      <th>1</th>\n",
              "      <td>the dollar has hit its highest level against t...</td>\n",
              "      <td>business</td>\n",
              "    </tr>\n",
              "    <tr>\n",
              "      <th>2</th>\n",
              "      <td>yukos owner menatep group says it will ask ros...</td>\n",
              "      <td>business</td>\n",
              "    </tr>\n",
              "    <tr>\n",
              "      <th>3</th>\n",
              "      <td>rod eddington bas chief executive said the res...</td>\n",
              "      <td>business</td>\n",
              "    </tr>\n",
              "    <tr>\n",
              "      <th>4</th>\n",
              "      <td>pernod has reduced the debt it took on to fund...</td>\n",
              "      <td>business</td>\n",
              "    </tr>\n",
              "    <tr>\n",
              "      <th>...</th>\n",
              "      <td>...</td>\n",
              "      <td>...</td>\n",
              "    </tr>\n",
              "    <tr>\n",
              "      <th>2220</th>\n",
              "      <td>bt is introducing two initiatives to help beat...</td>\n",
              "      <td>tech</td>\n",
              "    </tr>\n",
              "    <tr>\n",
              "      <th>2221</th>\n",
              "      <td>a third of them read unsolicited junk email an...</td>\n",
              "      <td>tech</td>\n",
              "    </tr>\n",
              "    <tr>\n",
              "      <th>2222</th>\n",
              "      <td>this goes to the heart of the european project...</td>\n",
              "      <td>tech</td>\n",
              "    </tr>\n",
              "    <tr>\n",
              "      <th>2223</th>\n",
              "      <td>amit yoran was director of the national cyber ...</td>\n",
              "      <td>tech</td>\n",
              "    </tr>\n",
              "    <tr>\n",
              "      <th>2224</th>\n",
              "      <td>he says that in the world of online gaming suc...</td>\n",
              "      <td>tech</td>\n",
              "    </tr>\n",
              "  </tbody>\n",
              "</table>\n",
              "<p>2225 rows × 2 columns</p>\n",
              "</div>"
            ],
            "text/plain": [
              "                                                   text     label\n",
              "0     timewarner said fourth quarter sales rose  to ...  business\n",
              "1     the dollar has hit its highest level against t...  business\n",
              "2     yukos owner menatep group says it will ask ros...  business\n",
              "3     rod eddington bas chief executive said the res...  business\n",
              "4     pernod has reduced the debt it took on to fund...  business\n",
              "...                                                 ...       ...\n",
              "2220  bt is introducing two initiatives to help beat...      tech\n",
              "2221  a third of them read unsolicited junk email an...      tech\n",
              "2222  this goes to the heart of the european project...      tech\n",
              "2223  amit yoran was director of the national cyber ...      tech\n",
              "2224  he says that in the world of online gaming suc...      tech\n",
              "\n",
              "[2225 rows x 2 columns]"
            ]
          },
          "execution_count": 48,
          "metadata": {},
          "output_type": "execute_result"
        }
      ],
      "source": [
        "#menghilangan angka dalam text\n",
        "df['text'] = df['text'].str.replace('\\d+', '')\n",
        "df"
      ]
    },
    {
      "cell_type": "code",
      "execution_count": 49,
      "metadata": {
        "colab": {
          "base_uri": "https://localhost:8080/",
          "height": 478
        },
        "id": "esAPdM2p5CJa",
        "outputId": "1be125a6-2cce-43f8-81af-f7c5f2bd255d"
      },
      "outputs": [
        {
          "name": "stderr",
          "output_type": "stream",
          "text": [
            "C:\\Users\\Lenovo\\AppData\\Local\\Temp\\ipykernel_3952\\2398666296.py:5: FutureWarning: The default value of regex will change from True to False in a future version.\n",
            "  df['text'] = df['text'].str.replace('[{}]'.format(string.punctuation), '')\n"
          ]
        },
        {
          "data": {
            "text/html": [
              "<div>\n",
              "<style scoped>\n",
              "    .dataframe tbody tr th:only-of-type {\n",
              "        vertical-align: middle;\n",
              "    }\n",
              "\n",
              "    .dataframe tbody tr th {\n",
              "        vertical-align: top;\n",
              "    }\n",
              "\n",
              "    .dataframe thead th {\n",
              "        text-align: right;\n",
              "    }\n",
              "</style>\n",
              "<table border=\"1\" class=\"dataframe\">\n",
              "  <thead>\n",
              "    <tr style=\"text-align: right;\">\n",
              "      <th></th>\n",
              "      <th>text</th>\n",
              "      <th>label</th>\n",
              "    </tr>\n",
              "  </thead>\n",
              "  <tbody>\n",
              "    <tr>\n",
              "      <th>0</th>\n",
              "      <td>timewarner said fourth quarter sales rose  to ...</td>\n",
              "      <td>business</td>\n",
              "    </tr>\n",
              "    <tr>\n",
              "      <th>1</th>\n",
              "      <td>the dollar has hit its highest level against t...</td>\n",
              "      <td>business</td>\n",
              "    </tr>\n",
              "    <tr>\n",
              "      <th>2</th>\n",
              "      <td>yukos owner menatep group says it will ask ros...</td>\n",
              "      <td>business</td>\n",
              "    </tr>\n",
              "    <tr>\n",
              "      <th>3</th>\n",
              "      <td>rod eddington bas chief executive said the res...</td>\n",
              "      <td>business</td>\n",
              "    </tr>\n",
              "    <tr>\n",
              "      <th>4</th>\n",
              "      <td>pernod has reduced the debt it took on to fund...</td>\n",
              "      <td>business</td>\n",
              "    </tr>\n",
              "    <tr>\n",
              "      <th>...</th>\n",
              "      <td>...</td>\n",
              "      <td>...</td>\n",
              "    </tr>\n",
              "    <tr>\n",
              "      <th>2220</th>\n",
              "      <td>bt is introducing two initiatives to help beat...</td>\n",
              "      <td>tech</td>\n",
              "    </tr>\n",
              "    <tr>\n",
              "      <th>2221</th>\n",
              "      <td>a third of them read unsolicited junk email an...</td>\n",
              "      <td>tech</td>\n",
              "    </tr>\n",
              "    <tr>\n",
              "      <th>2222</th>\n",
              "      <td>this goes to the heart of the european project...</td>\n",
              "      <td>tech</td>\n",
              "    </tr>\n",
              "    <tr>\n",
              "      <th>2223</th>\n",
              "      <td>amit yoran was director of the national cyber ...</td>\n",
              "      <td>tech</td>\n",
              "    </tr>\n",
              "    <tr>\n",
              "      <th>2224</th>\n",
              "      <td>he says that in the world of online gaming suc...</td>\n",
              "      <td>tech</td>\n",
              "    </tr>\n",
              "  </tbody>\n",
              "</table>\n",
              "<p>2225 rows × 2 columns</p>\n",
              "</div>"
            ],
            "text/plain": [
              "                                                   text     label\n",
              "0     timewarner said fourth quarter sales rose  to ...  business\n",
              "1     the dollar has hit its highest level against t...  business\n",
              "2     yukos owner menatep group says it will ask ros...  business\n",
              "3     rod eddington bas chief executive said the res...  business\n",
              "4     pernod has reduced the debt it took on to fund...  business\n",
              "...                                                 ...       ...\n",
              "2220  bt is introducing two initiatives to help beat...      tech\n",
              "2221  a third of them read unsolicited junk email an...      tech\n",
              "2222  this goes to the heart of the european project...      tech\n",
              "2223  amit yoran was director of the national cyber ...      tech\n",
              "2224  he says that in the world of online gaming suc...      tech\n",
              "\n",
              "[2225 rows x 2 columns]"
            ]
          },
          "execution_count": 49,
          "metadata": {},
          "output_type": "execute_result"
        }
      ],
      "source": [
        "#menghilangkan special chratcter seperti #,$,@,!, dll\n",
        "\n",
        "import string\n",
        "\n",
        "df['text'] = df['text'].str.replace('[{}]'.format(string.punctuation), '')\n",
        "df"
      ]
    },
    {
      "cell_type": "code",
      "execution_count": null,
      "metadata": {
        "id": "V5y7s-eC5FAX"
      },
      "outputs": [],
      "source": []
    },
    {
      "attachments": {},
      "cell_type": "markdown",
      "metadata": {
        "id": "9eyx0bz_U22x"
      },
      "source": [
        "#Tokenization"
      ]
    },
    {
      "cell_type": "code",
      "execution_count": 50,
      "metadata": {
        "id": "_RFzGIJkUdyC"
      },
      "outputs": [],
      "source": [
        "df['tokens'] = df['text'].apply(word_tokenize)"
      ]
    },
    {
      "cell_type": "code",
      "execution_count": 21,
      "metadata": {
        "colab": {
          "base_uri": "https://localhost:8080/",
          "height": 424
        },
        "id": "Workx-9GVxEk",
        "outputId": "762412a6-4867-4271-8591-d653f3d754c8"
      },
      "outputs": [
        {
          "data": {
            "text/html": [
              "<div>\n",
              "<style scoped>\n",
              "    .dataframe tbody tr th:only-of-type {\n",
              "        vertical-align: middle;\n",
              "    }\n",
              "\n",
              "    .dataframe tbody tr th {\n",
              "        vertical-align: top;\n",
              "    }\n",
              "\n",
              "    .dataframe thead th {\n",
              "        text-align: right;\n",
              "    }\n",
              "</style>\n",
              "<table border=\"1\" class=\"dataframe\">\n",
              "  <thead>\n",
              "    <tr style=\"text-align: right;\">\n",
              "      <th></th>\n",
              "      <th>text</th>\n",
              "      <th>label</th>\n",
              "      <th>tokens</th>\n",
              "      <th>no_stopword</th>\n",
              "      <th>stemmed</th>\n",
              "    </tr>\n",
              "  </thead>\n",
              "  <tbody>\n",
              "    <tr>\n",
              "      <th>0</th>\n",
              "      <td>timewarner said fourth quarter sales rose  to ...</td>\n",
              "      <td>business</td>\n",
              "      <td>[timewarner, said, fourth, quarter, sales, ros...</td>\n",
              "      <td>[timewarner, said, fourth, quarter, sales, ros...</td>\n",
              "      <td>[timewarn, said, fourth, quarter, sale, rose, ...</td>\n",
              "    </tr>\n",
              "    <tr>\n",
              "      <th>1</th>\n",
              "      <td>the dollar has hit its highest level against t...</td>\n",
              "      <td>business</td>\n",
              "      <td>[the, dollar, has, hit, its, highest, level, a...</td>\n",
              "      <td>[dollar, hit, highest, level, euro, almost, th...</td>\n",
              "      <td>[dollar, hit, highest, level, euro, almost, th...</td>\n",
              "    </tr>\n",
              "    <tr>\n",
              "      <th>2</th>\n",
              "      <td>yukos owner menatep group says it will ask ros...</td>\n",
              "      <td>business</td>\n",
              "      <td>[yukos, owner, menatep, group, says, it, will,...</td>\n",
              "      <td>[yukos, owner, menatep, group, says, ask, rosn...</td>\n",
              "      <td>[yuko, owner, menatep, group, say, ask, rosnef...</td>\n",
              "    </tr>\n",
              "    <tr>\n",
              "      <th>3</th>\n",
              "      <td>rod eddington bas chief executive said the res...</td>\n",
              "      <td>business</td>\n",
              "      <td>[rod, eddington, bas, chief, executive, said, ...</td>\n",
              "      <td>[rod, eddington, bas, chief, executive, said, ...</td>\n",
              "      <td>[rod, eddington, ba, chief, execut, said, resu...</td>\n",
              "    </tr>\n",
              "    <tr>\n",
              "      <th>4</th>\n",
              "      <td>pernod has reduced the debt it took on to fund...</td>\n",
              "      <td>business</td>\n",
              "      <td>[pernod, has, reduced, the, debt, it, took, on...</td>\n",
              "      <td>[pernod, reduced, debt, took, fund, seagram, p...</td>\n",
              "      <td>[pernod, reduc, debt, took, fund, seagram, pur...</td>\n",
              "    </tr>\n",
              "    <tr>\n",
              "      <th>...</th>\n",
              "      <td>...</td>\n",
              "      <td>...</td>\n",
              "      <td>...</td>\n",
              "      <td>...</td>\n",
              "      <td>...</td>\n",
              "    </tr>\n",
              "    <tr>\n",
              "      <th>2220</th>\n",
              "      <td>bt is introducing two initiatives to help beat...</td>\n",
              "      <td>tech</td>\n",
              "      <td>[bt, is, introducing, two, initiatives, to, he...</td>\n",
              "      <td>[bt, introducing, two, initiatives, help, beat...</td>\n",
              "      <td>[bt, introduc, two, initi, help, beat, rogu, d...</td>\n",
              "    </tr>\n",
              "    <tr>\n",
              "      <th>2221</th>\n",
              "      <td>a third of them read unsolicited junk email an...</td>\n",
              "      <td>tech</td>\n",
              "      <td>[a, third, of, them, read, unsolicited, junk, ...</td>\n",
              "      <td>[third, read, unsolicited, junk, email, buy, g...</td>\n",
              "      <td>[third, read, unsolicit, junk, email, buy, goo...</td>\n",
              "    </tr>\n",
              "    <tr>\n",
              "      <th>2222</th>\n",
              "      <td>this goes to the heart of the european project...</td>\n",
              "      <td>tech</td>\n",
              "      <td>[this, goes, to, the, heart, of, the, european...</td>\n",
              "      <td>[goes, heart, european, project, even, care, s...</td>\n",
              "      <td>[goe, heart, european, project, even, care, so...</td>\n",
              "    </tr>\n",
              "    <tr>\n",
              "      <th>2223</th>\n",
              "      <td>amit yoran was director of the national cyber ...</td>\n",
              "      <td>tech</td>\n",
              "      <td>[amit, yoran, was, director, of, the, national...</td>\n",
              "      <td>[amit, yoran, director, national, cyber, secur...</td>\n",
              "      <td>[amit, yoran, director, nation, cyber, secur, ...</td>\n",
              "    </tr>\n",
              "    <tr>\n",
              "      <th>2224</th>\n",
              "      <td>he says that in the world of online gaming suc...</td>\n",
              "      <td>tech</td>\n",
              "      <td>[he, says, that, in, the, world, of, online, g...</td>\n",
              "      <td>[says, world, online, gaming, behaviour, wasnt...</td>\n",
              "      <td>[say, world, onlin, game, behaviour, wasnt, un...</td>\n",
              "    </tr>\n",
              "  </tbody>\n",
              "</table>\n",
              "<p>2225 rows × 5 columns</p>\n",
              "</div>"
            ],
            "text/plain": [
              "                                                   text     label  \\\n",
              "0     timewarner said fourth quarter sales rose  to ...  business   \n",
              "1     the dollar has hit its highest level against t...  business   \n",
              "2     yukos owner menatep group says it will ask ros...  business   \n",
              "3     rod eddington bas chief executive said the res...  business   \n",
              "4     pernod has reduced the debt it took on to fund...  business   \n",
              "...                                                 ...       ...   \n",
              "2220  bt is introducing two initiatives to help beat...      tech   \n",
              "2221  a third of them read unsolicited junk email an...      tech   \n",
              "2222  this goes to the heart of the european project...      tech   \n",
              "2223  amit yoran was director of the national cyber ...      tech   \n",
              "2224  he says that in the world of online gaming suc...      tech   \n",
              "\n",
              "                                                 tokens  \\\n",
              "0     [timewarner, said, fourth, quarter, sales, ros...   \n",
              "1     [the, dollar, has, hit, its, highest, level, a...   \n",
              "2     [yukos, owner, menatep, group, says, it, will,...   \n",
              "3     [rod, eddington, bas, chief, executive, said, ...   \n",
              "4     [pernod, has, reduced, the, debt, it, took, on...   \n",
              "...                                                 ...   \n",
              "2220  [bt, is, introducing, two, initiatives, to, he...   \n",
              "2221  [a, third, of, them, read, unsolicited, junk, ...   \n",
              "2222  [this, goes, to, the, heart, of, the, european...   \n",
              "2223  [amit, yoran, was, director, of, the, national...   \n",
              "2224  [he, says, that, in, the, world, of, online, g...   \n",
              "\n",
              "                                            no_stopword  \\\n",
              "0     [timewarner, said, fourth, quarter, sales, ros...   \n",
              "1     [dollar, hit, highest, level, euro, almost, th...   \n",
              "2     [yukos, owner, menatep, group, says, ask, rosn...   \n",
              "3     [rod, eddington, bas, chief, executive, said, ...   \n",
              "4     [pernod, reduced, debt, took, fund, seagram, p...   \n",
              "...                                                 ...   \n",
              "2220  [bt, introducing, two, initiatives, help, beat...   \n",
              "2221  [third, read, unsolicited, junk, email, buy, g...   \n",
              "2222  [goes, heart, european, project, even, care, s...   \n",
              "2223  [amit, yoran, director, national, cyber, secur...   \n",
              "2224  [says, world, online, gaming, behaviour, wasnt...   \n",
              "\n",
              "                                                stemmed  \n",
              "0     [timewarn, said, fourth, quarter, sale, rose, ...  \n",
              "1     [dollar, hit, highest, level, euro, almost, th...  \n",
              "2     [yuko, owner, menatep, group, say, ask, rosnef...  \n",
              "3     [rod, eddington, ba, chief, execut, said, resu...  \n",
              "4     [pernod, reduc, debt, took, fund, seagram, pur...  \n",
              "...                                                 ...  \n",
              "2220  [bt, introduc, two, initi, help, beat, rogu, d...  \n",
              "2221  [third, read, unsolicit, junk, email, buy, goo...  \n",
              "2222  [goe, heart, european, project, even, care, so...  \n",
              "2223  [amit, yoran, director, nation, cyber, secur, ...  \n",
              "2224  [say, world, onlin, game, behaviour, wasnt, un...  \n",
              "\n",
              "[2225 rows x 5 columns]"
            ]
          },
          "execution_count": 21,
          "metadata": {},
          "output_type": "execute_result"
        }
      ],
      "source": [
        "df"
      ]
    },
    {
      "attachments": {},
      "cell_type": "markdown",
      "metadata": {
        "id": "QvYd_ECobMRi"
      },
      "source": [
        "#Stopword"
      ]
    },
    {
      "cell_type": "code",
      "execution_count": 51,
      "metadata": {
        "id": "Fz-XkgEYbIx3"
      },
      "outputs": [],
      "source": [
        "stop_words = set(stopwords.words('english'))\n",
        "df['no_stopword'] = df['tokens'].apply(lambda x: [word for word in x if word.lower() not in stop_words])"
      ]
    },
    {
      "cell_type": "code",
      "execution_count": 23,
      "metadata": {
        "colab": {
          "base_uri": "https://localhost:8080/",
          "height": 641
        },
        "id": "AP4g500So9Og",
        "outputId": "3cbb2c11-487a-438e-ac58-d690551a28ee"
      },
      "outputs": [
        {
          "data": {
            "text/html": [
              "<div>\n",
              "<style scoped>\n",
              "    .dataframe tbody tr th:only-of-type {\n",
              "        vertical-align: middle;\n",
              "    }\n",
              "\n",
              "    .dataframe tbody tr th {\n",
              "        vertical-align: top;\n",
              "    }\n",
              "\n",
              "    .dataframe thead th {\n",
              "        text-align: right;\n",
              "    }\n",
              "</style>\n",
              "<table border=\"1\" class=\"dataframe\">\n",
              "  <thead>\n",
              "    <tr style=\"text-align: right;\">\n",
              "      <th></th>\n",
              "      <th>text</th>\n",
              "      <th>label</th>\n",
              "      <th>tokens</th>\n",
              "      <th>no_stopword</th>\n",
              "      <th>stemmed</th>\n",
              "    </tr>\n",
              "  </thead>\n",
              "  <tbody>\n",
              "    <tr>\n",
              "      <th>0</th>\n",
              "      <td>timewarner said fourth quarter sales rose  to ...</td>\n",
              "      <td>business</td>\n",
              "      <td>[timewarner, said, fourth, quarter, sales, ros...</td>\n",
              "      <td>[timewarner, said, fourth, quarter, sales, ros...</td>\n",
              "      <td>[timewarn, said, fourth, quarter, sale, rose, ...</td>\n",
              "    </tr>\n",
              "    <tr>\n",
              "      <th>1</th>\n",
              "      <td>the dollar has hit its highest level against t...</td>\n",
              "      <td>business</td>\n",
              "      <td>[the, dollar, has, hit, its, highest, level, a...</td>\n",
              "      <td>[dollar, hit, highest, level, euro, almost, th...</td>\n",
              "      <td>[dollar, hit, highest, level, euro, almost, th...</td>\n",
              "    </tr>\n",
              "    <tr>\n",
              "      <th>2</th>\n",
              "      <td>yukos owner menatep group says it will ask ros...</td>\n",
              "      <td>business</td>\n",
              "      <td>[yukos, owner, menatep, group, says, it, will,...</td>\n",
              "      <td>[yukos, owner, menatep, group, says, ask, rosn...</td>\n",
              "      <td>[yuko, owner, menatep, group, say, ask, rosnef...</td>\n",
              "    </tr>\n",
              "    <tr>\n",
              "      <th>3</th>\n",
              "      <td>rod eddington bas chief executive said the res...</td>\n",
              "      <td>business</td>\n",
              "      <td>[rod, eddington, bas, chief, executive, said, ...</td>\n",
              "      <td>[rod, eddington, bas, chief, executive, said, ...</td>\n",
              "      <td>[rod, eddington, ba, chief, execut, said, resu...</td>\n",
              "    </tr>\n",
              "    <tr>\n",
              "      <th>4</th>\n",
              "      <td>pernod has reduced the debt it took on to fund...</td>\n",
              "      <td>business</td>\n",
              "      <td>[pernod, has, reduced, the, debt, it, took, on...</td>\n",
              "      <td>[pernod, reduced, debt, took, fund, seagram, p...</td>\n",
              "      <td>[pernod, reduc, debt, took, fund, seagram, pur...</td>\n",
              "    </tr>\n",
              "    <tr>\n",
              "      <th>...</th>\n",
              "      <td>...</td>\n",
              "      <td>...</td>\n",
              "      <td>...</td>\n",
              "      <td>...</td>\n",
              "      <td>...</td>\n",
              "    </tr>\n",
              "    <tr>\n",
              "      <th>2220</th>\n",
              "      <td>bt is introducing two initiatives to help beat...</td>\n",
              "      <td>tech</td>\n",
              "      <td>[bt, is, introducing, two, initiatives, to, he...</td>\n",
              "      <td>[bt, introducing, two, initiatives, help, beat...</td>\n",
              "      <td>[bt, introduc, two, initi, help, beat, rogu, d...</td>\n",
              "    </tr>\n",
              "    <tr>\n",
              "      <th>2221</th>\n",
              "      <td>a third of them read unsolicited junk email an...</td>\n",
              "      <td>tech</td>\n",
              "      <td>[a, third, of, them, read, unsolicited, junk, ...</td>\n",
              "      <td>[third, read, unsolicited, junk, email, buy, g...</td>\n",
              "      <td>[third, read, unsolicit, junk, email, buy, goo...</td>\n",
              "    </tr>\n",
              "    <tr>\n",
              "      <th>2222</th>\n",
              "      <td>this goes to the heart of the european project...</td>\n",
              "      <td>tech</td>\n",
              "      <td>[this, goes, to, the, heart, of, the, european...</td>\n",
              "      <td>[goes, heart, european, project, even, care, s...</td>\n",
              "      <td>[goe, heart, european, project, even, care, so...</td>\n",
              "    </tr>\n",
              "    <tr>\n",
              "      <th>2223</th>\n",
              "      <td>amit yoran was director of the national cyber ...</td>\n",
              "      <td>tech</td>\n",
              "      <td>[amit, yoran, was, director, of, the, national...</td>\n",
              "      <td>[amit, yoran, director, national, cyber, secur...</td>\n",
              "      <td>[amit, yoran, director, nation, cyber, secur, ...</td>\n",
              "    </tr>\n",
              "    <tr>\n",
              "      <th>2224</th>\n",
              "      <td>he says that in the world of online gaming suc...</td>\n",
              "      <td>tech</td>\n",
              "      <td>[he, says, that, in, the, world, of, online, g...</td>\n",
              "      <td>[says, world, online, gaming, behaviour, wasnt...</td>\n",
              "      <td>[say, world, onlin, game, behaviour, wasnt, un...</td>\n",
              "    </tr>\n",
              "  </tbody>\n",
              "</table>\n",
              "<p>2225 rows × 5 columns</p>\n",
              "</div>"
            ],
            "text/plain": [
              "                                                   text     label  \\\n",
              "0     timewarner said fourth quarter sales rose  to ...  business   \n",
              "1     the dollar has hit its highest level against t...  business   \n",
              "2     yukos owner menatep group says it will ask ros...  business   \n",
              "3     rod eddington bas chief executive said the res...  business   \n",
              "4     pernod has reduced the debt it took on to fund...  business   \n",
              "...                                                 ...       ...   \n",
              "2220  bt is introducing two initiatives to help beat...      tech   \n",
              "2221  a third of them read unsolicited junk email an...      tech   \n",
              "2222  this goes to the heart of the european project...      tech   \n",
              "2223  amit yoran was director of the national cyber ...      tech   \n",
              "2224  he says that in the world of online gaming suc...      tech   \n",
              "\n",
              "                                                 tokens  \\\n",
              "0     [timewarner, said, fourth, quarter, sales, ros...   \n",
              "1     [the, dollar, has, hit, its, highest, level, a...   \n",
              "2     [yukos, owner, menatep, group, says, it, will,...   \n",
              "3     [rod, eddington, bas, chief, executive, said, ...   \n",
              "4     [pernod, has, reduced, the, debt, it, took, on...   \n",
              "...                                                 ...   \n",
              "2220  [bt, is, introducing, two, initiatives, to, he...   \n",
              "2221  [a, third, of, them, read, unsolicited, junk, ...   \n",
              "2222  [this, goes, to, the, heart, of, the, european...   \n",
              "2223  [amit, yoran, was, director, of, the, national...   \n",
              "2224  [he, says, that, in, the, world, of, online, g...   \n",
              "\n",
              "                                            no_stopword  \\\n",
              "0     [timewarner, said, fourth, quarter, sales, ros...   \n",
              "1     [dollar, hit, highest, level, euro, almost, th...   \n",
              "2     [yukos, owner, menatep, group, says, ask, rosn...   \n",
              "3     [rod, eddington, bas, chief, executive, said, ...   \n",
              "4     [pernod, reduced, debt, took, fund, seagram, p...   \n",
              "...                                                 ...   \n",
              "2220  [bt, introducing, two, initiatives, help, beat...   \n",
              "2221  [third, read, unsolicited, junk, email, buy, g...   \n",
              "2222  [goes, heart, european, project, even, care, s...   \n",
              "2223  [amit, yoran, director, national, cyber, secur...   \n",
              "2224  [says, world, online, gaming, behaviour, wasnt...   \n",
              "\n",
              "                                                stemmed  \n",
              "0     [timewarn, said, fourth, quarter, sale, rose, ...  \n",
              "1     [dollar, hit, highest, level, euro, almost, th...  \n",
              "2     [yuko, owner, menatep, group, say, ask, rosnef...  \n",
              "3     [rod, eddington, ba, chief, execut, said, resu...  \n",
              "4     [pernod, reduc, debt, took, fund, seagram, pur...  \n",
              "...                                                 ...  \n",
              "2220  [bt, introduc, two, initi, help, beat, rogu, d...  \n",
              "2221  [third, read, unsolicit, junk, email, buy, goo...  \n",
              "2222  [goe, heart, european, project, even, care, so...  \n",
              "2223  [amit, yoran, director, nation, cyber, secur, ...  \n",
              "2224  [say, world, onlin, game, behaviour, wasnt, un...  \n",
              "\n",
              "[2225 rows x 5 columns]"
            ]
          },
          "execution_count": 23,
          "metadata": {},
          "output_type": "execute_result"
        }
      ],
      "source": [
        "df"
      ]
    },
    {
      "attachments": {},
      "cell_type": "markdown",
      "metadata": {
        "id": "xiOY8kcppAIQ"
      },
      "source": [
        "#Stemming"
      ]
    },
    {
      "cell_type": "code",
      "execution_count": 52,
      "metadata": {
        "id": "d5k2ff7Dq4Kt"
      },
      "outputs": [],
      "source": [
        "ps = PorterStemmer()\n",
        "df['stemmed'] = df['no_stopword'].apply(lambda x: [ps.stem(word) for word in x])"
      ]
    },
    {
      "cell_type": "code",
      "execution_count": 25,
      "metadata": {
        "colab": {
          "base_uri": "https://localhost:8080/",
          "height": 641
        },
        "id": "1UiR5eGxrWk5",
        "outputId": "e8fd1e7b-60c4-4f13-ad41-c669b51c79e6"
      },
      "outputs": [
        {
          "data": {
            "text/html": [
              "<div>\n",
              "<style scoped>\n",
              "    .dataframe tbody tr th:only-of-type {\n",
              "        vertical-align: middle;\n",
              "    }\n",
              "\n",
              "    .dataframe tbody tr th {\n",
              "        vertical-align: top;\n",
              "    }\n",
              "\n",
              "    .dataframe thead th {\n",
              "        text-align: right;\n",
              "    }\n",
              "</style>\n",
              "<table border=\"1\" class=\"dataframe\">\n",
              "  <thead>\n",
              "    <tr style=\"text-align: right;\">\n",
              "      <th></th>\n",
              "      <th>text</th>\n",
              "      <th>label</th>\n",
              "      <th>tokens</th>\n",
              "      <th>no_stopword</th>\n",
              "      <th>stemmed</th>\n",
              "    </tr>\n",
              "  </thead>\n",
              "  <tbody>\n",
              "    <tr>\n",
              "      <th>0</th>\n",
              "      <td>timewarner said fourth quarter sales rose  to ...</td>\n",
              "      <td>business</td>\n",
              "      <td>[timewarner, said, fourth, quarter, sales, ros...</td>\n",
              "      <td>[timewarner, said, fourth, quarter, sales, ros...</td>\n",
              "      <td>[timewarn, said, fourth, quarter, sale, rose, ...</td>\n",
              "    </tr>\n",
              "    <tr>\n",
              "      <th>1</th>\n",
              "      <td>the dollar has hit its highest level against t...</td>\n",
              "      <td>business</td>\n",
              "      <td>[the, dollar, has, hit, its, highest, level, a...</td>\n",
              "      <td>[dollar, hit, highest, level, euro, almost, th...</td>\n",
              "      <td>[dollar, hit, highest, level, euro, almost, th...</td>\n",
              "    </tr>\n",
              "    <tr>\n",
              "      <th>2</th>\n",
              "      <td>yukos owner menatep group says it will ask ros...</td>\n",
              "      <td>business</td>\n",
              "      <td>[yukos, owner, menatep, group, says, it, will,...</td>\n",
              "      <td>[yukos, owner, menatep, group, says, ask, rosn...</td>\n",
              "      <td>[yuko, owner, menatep, group, say, ask, rosnef...</td>\n",
              "    </tr>\n",
              "    <tr>\n",
              "      <th>3</th>\n",
              "      <td>rod eddington bas chief executive said the res...</td>\n",
              "      <td>business</td>\n",
              "      <td>[rod, eddington, bas, chief, executive, said, ...</td>\n",
              "      <td>[rod, eddington, bas, chief, executive, said, ...</td>\n",
              "      <td>[rod, eddington, ba, chief, execut, said, resu...</td>\n",
              "    </tr>\n",
              "    <tr>\n",
              "      <th>4</th>\n",
              "      <td>pernod has reduced the debt it took on to fund...</td>\n",
              "      <td>business</td>\n",
              "      <td>[pernod, has, reduced, the, debt, it, took, on...</td>\n",
              "      <td>[pernod, reduced, debt, took, fund, seagram, p...</td>\n",
              "      <td>[pernod, reduc, debt, took, fund, seagram, pur...</td>\n",
              "    </tr>\n",
              "    <tr>\n",
              "      <th>...</th>\n",
              "      <td>...</td>\n",
              "      <td>...</td>\n",
              "      <td>...</td>\n",
              "      <td>...</td>\n",
              "      <td>...</td>\n",
              "    </tr>\n",
              "    <tr>\n",
              "      <th>2220</th>\n",
              "      <td>bt is introducing two initiatives to help beat...</td>\n",
              "      <td>tech</td>\n",
              "      <td>[bt, is, introducing, two, initiatives, to, he...</td>\n",
              "      <td>[bt, introducing, two, initiatives, help, beat...</td>\n",
              "      <td>[bt, introduc, two, initi, help, beat, rogu, d...</td>\n",
              "    </tr>\n",
              "    <tr>\n",
              "      <th>2221</th>\n",
              "      <td>a third of them read unsolicited junk email an...</td>\n",
              "      <td>tech</td>\n",
              "      <td>[a, third, of, them, read, unsolicited, junk, ...</td>\n",
              "      <td>[third, read, unsolicited, junk, email, buy, g...</td>\n",
              "      <td>[third, read, unsolicit, junk, email, buy, goo...</td>\n",
              "    </tr>\n",
              "    <tr>\n",
              "      <th>2222</th>\n",
              "      <td>this goes to the heart of the european project...</td>\n",
              "      <td>tech</td>\n",
              "      <td>[this, goes, to, the, heart, of, the, european...</td>\n",
              "      <td>[goes, heart, european, project, even, care, s...</td>\n",
              "      <td>[goe, heart, european, project, even, care, so...</td>\n",
              "    </tr>\n",
              "    <tr>\n",
              "      <th>2223</th>\n",
              "      <td>amit yoran was director of the national cyber ...</td>\n",
              "      <td>tech</td>\n",
              "      <td>[amit, yoran, was, director, of, the, national...</td>\n",
              "      <td>[amit, yoran, director, national, cyber, secur...</td>\n",
              "      <td>[amit, yoran, director, nation, cyber, secur, ...</td>\n",
              "    </tr>\n",
              "    <tr>\n",
              "      <th>2224</th>\n",
              "      <td>he says that in the world of online gaming suc...</td>\n",
              "      <td>tech</td>\n",
              "      <td>[he, says, that, in, the, world, of, online, g...</td>\n",
              "      <td>[says, world, online, gaming, behaviour, wasnt...</td>\n",
              "      <td>[say, world, onlin, game, behaviour, wasnt, un...</td>\n",
              "    </tr>\n",
              "  </tbody>\n",
              "</table>\n",
              "<p>2225 rows × 5 columns</p>\n",
              "</div>"
            ],
            "text/plain": [
              "                                                   text     label  \\\n",
              "0     timewarner said fourth quarter sales rose  to ...  business   \n",
              "1     the dollar has hit its highest level against t...  business   \n",
              "2     yukos owner menatep group says it will ask ros...  business   \n",
              "3     rod eddington bas chief executive said the res...  business   \n",
              "4     pernod has reduced the debt it took on to fund...  business   \n",
              "...                                                 ...       ...   \n",
              "2220  bt is introducing two initiatives to help beat...      tech   \n",
              "2221  a third of them read unsolicited junk email an...      tech   \n",
              "2222  this goes to the heart of the european project...      tech   \n",
              "2223  amit yoran was director of the national cyber ...      tech   \n",
              "2224  he says that in the world of online gaming suc...      tech   \n",
              "\n",
              "                                                 tokens  \\\n",
              "0     [timewarner, said, fourth, quarter, sales, ros...   \n",
              "1     [the, dollar, has, hit, its, highest, level, a...   \n",
              "2     [yukos, owner, menatep, group, says, it, will,...   \n",
              "3     [rod, eddington, bas, chief, executive, said, ...   \n",
              "4     [pernod, has, reduced, the, debt, it, took, on...   \n",
              "...                                                 ...   \n",
              "2220  [bt, is, introducing, two, initiatives, to, he...   \n",
              "2221  [a, third, of, them, read, unsolicited, junk, ...   \n",
              "2222  [this, goes, to, the, heart, of, the, european...   \n",
              "2223  [amit, yoran, was, director, of, the, national...   \n",
              "2224  [he, says, that, in, the, world, of, online, g...   \n",
              "\n",
              "                                            no_stopword  \\\n",
              "0     [timewarner, said, fourth, quarter, sales, ros...   \n",
              "1     [dollar, hit, highest, level, euro, almost, th...   \n",
              "2     [yukos, owner, menatep, group, says, ask, rosn...   \n",
              "3     [rod, eddington, bas, chief, executive, said, ...   \n",
              "4     [pernod, reduced, debt, took, fund, seagram, p...   \n",
              "...                                                 ...   \n",
              "2220  [bt, introducing, two, initiatives, help, beat...   \n",
              "2221  [third, read, unsolicited, junk, email, buy, g...   \n",
              "2222  [goes, heart, european, project, even, care, s...   \n",
              "2223  [amit, yoran, director, national, cyber, secur...   \n",
              "2224  [says, world, online, gaming, behaviour, wasnt...   \n",
              "\n",
              "                                                stemmed  \n",
              "0     [timewarn, said, fourth, quarter, sale, rose, ...  \n",
              "1     [dollar, hit, highest, level, euro, almost, th...  \n",
              "2     [yuko, owner, menatep, group, say, ask, rosnef...  \n",
              "3     [rod, eddington, ba, chief, execut, said, resu...  \n",
              "4     [pernod, reduc, debt, took, fund, seagram, pur...  \n",
              "...                                                 ...  \n",
              "2220  [bt, introduc, two, initi, help, beat, rogu, d...  \n",
              "2221  [third, read, unsolicit, junk, email, buy, goo...  \n",
              "2222  [goe, heart, european, project, even, care, so...  \n",
              "2223  [amit, yoran, director, nation, cyber, secur, ...  \n",
              "2224  [say, world, onlin, game, behaviour, wasnt, un...  \n",
              "\n",
              "[2225 rows x 5 columns]"
            ]
          },
          "execution_count": 25,
          "metadata": {},
          "output_type": "execute_result"
        }
      ],
      "source": [
        "df"
      ]
    },
    {
      "cell_type": "code",
      "execution_count": 33,
      "metadata": {
        "colab": {
          "base_uri": "https://localhost:8080/"
        },
        "id": "t_BXjy5z7aej",
        "outputId": "7b1439de-34dd-4ac4-a6f1-be902f1b8b17"
      },
      "outputs": [
        {
          "ename": "SyntaxError",
          "evalue": "invalid syntax (3164081265.py, line 4)",
          "output_type": "error",
          "traceback": [
            "\u001b[1;36m  Input \u001b[1;32mIn [33]\u001b[1;36m\u001b[0m\n\u001b[1;33m    pip install pyarc\u001b[0m\n\u001b[1;37m        ^\u001b[0m\n\u001b[1;31mSyntaxError\u001b[0m\u001b[1;31m:\u001b[0m invalid syntax\n"
          ]
        }
      ],
      "source": [
        "from gettext import install\n",
        "import pip\n",
        "\n",
        "\n"
      ]
    },
    {
      "cell_type": "code",
      "execution_count": 59,
      "metadata": {},
      "outputs": [
        {
          "name": "stdout",
          "output_type": "stream",
          "text": [
            "Requirement already satisfied: mlxtend in c:\\users\\lenovo\\appdata\\local\\programs\\python\\python310\\lib\\site-packages (0.22.0)\n",
            "Note: you may need to restart the kernel to use updated packages.\n"
          ]
        },
        {
          "name": "stderr",
          "output_type": "stream",
          "text": [
            "WARNING: You are using pip version 21.2.4; however, version 23.1.2 is available.\n",
            "You should consider upgrading via the 'c:\\Users\\Lenovo\\AppData\\Local\\Programs\\Python\\Python310\\python.exe -m pip install --upgrade pip' command.\n"
          ]
        }
      ],
      "source": [
        "pip install mlxtend --upgrade --no-deps"
      ]
    },
    {
      "cell_type": "code",
      "execution_count": 68,
      "metadata": {
        "id": "qZqLCuwI7Hmz"
      },
      "outputs": [
        {
          "ename": "ImportError",
          "evalue": "cannot import name 'AssociativeClassifier' from 'mlxtend.classifier' (c:\\Users\\Lenovo\\AppData\\Local\\Programs\\Python\\Python310\\lib\\site-packages\\mlxtend\\classifier\\__init__.py)",
          "output_type": "error",
          "traceback": [
            "\u001b[1;31m---------------------------------------------------------------------------\u001b[0m",
            "\u001b[1;31mImportError\u001b[0m                               Traceback (most recent call last)",
            "\u001b[1;32md:\\KULIAH\\SMT6\\DAMIN\\tugas 3\\Copy_of_tugas1_datmin.ipynb Cell 25\u001b[0m in \u001b[0;36m<cell line: 3>\u001b[1;34m()\u001b[0m\n\u001b[0;32m      <a href='vscode-notebook-cell:/d%3A/KULIAH/SMT6/DAMIN/tugas%203/Copy_of_tugas1_datmin.ipynb#X33sZmlsZQ%3D%3D?line=0'>1</a>\u001b[0m \u001b[39mfrom\u001b[39;00m \u001b[39mmlxtend\u001b[39;00m\u001b[39m.\u001b[39;00m\u001b[39mpreprocessing\u001b[39;00m \u001b[39mimport\u001b[39;00m TransactionEncoder\n\u001b[0;32m      <a href='vscode-notebook-cell:/d%3A/KULIAH/SMT6/DAMIN/tugas%203/Copy_of_tugas1_datmin.ipynb#X33sZmlsZQ%3D%3D?line=1'>2</a>\u001b[0m \u001b[39mfrom\u001b[39;00m \u001b[39mmlxtend\u001b[39;00m\u001b[39m.\u001b[39;00m\u001b[39mfrequent_patterns\u001b[39;00m \u001b[39mimport\u001b[39;00m apriori\n\u001b[1;32m----> <a href='vscode-notebook-cell:/d%3A/KULIAH/SMT6/DAMIN/tugas%203/Copy_of_tugas1_datmin.ipynb#X33sZmlsZQ%3D%3D?line=2'>3</a>\u001b[0m \u001b[39mfrom\u001b[39;00m \u001b[39mmlxtend\u001b[39;00m\u001b[39m.\u001b[39;00m\u001b[39mclassifier\u001b[39;00m \u001b[39mimport\u001b[39;00m AssociativeClassifier\n\u001b[0;32m      <a href='vscode-notebook-cell:/d%3A/KULIAH/SMT6/DAMIN/tugas%203/Copy_of_tugas1_datmin.ipynb#X33sZmlsZQ%3D%3D?line=3'>4</a>\u001b[0m \u001b[39mfrom\u001b[39;00m \u001b[39msklearn\u001b[39;00m\u001b[39m.\u001b[39;00m\u001b[39mmodel_selection\u001b[39;00m \u001b[39mimport\u001b[39;00m train_test_split\n\u001b[0;32m      <a href='vscode-notebook-cell:/d%3A/KULIAH/SMT6/DAMIN/tugas%203/Copy_of_tugas1_datmin.ipynb#X33sZmlsZQ%3D%3D?line=4'>5</a>\u001b[0m \u001b[39mfrom\u001b[39;00m \u001b[39msklearn\u001b[39;00m\u001b[39m.\u001b[39;00m\u001b[39mmetrics\u001b[39;00m \u001b[39mimport\u001b[39;00m accuracy_score\n",
            "\u001b[1;31mImportError\u001b[0m: cannot import name 'AssociativeClassifier' from 'mlxtend.classifier' (c:\\Users\\Lenovo\\AppData\\Local\\Programs\\Python\\Python310\\lib\\site-packages\\mlxtend\\classifier\\__init__.py)"
          ]
        }
      ],
      "source": [
        "from mlxtend.preprocessing import TransactionEncoder\n",
        "from mlxtend.frequent_patterns import apriori\n",
        "from mlxtend.classifier import AssociativeClassifier\n",
        "from sklearn.model_selection import train_test_split\n",
        "from sklearn.metrics import accuracy_score\n",
        "\n",
        "\n"
      ]
    },
    {
      "cell_type": "code",
      "execution_count": 57,
      "metadata": {},
      "outputs": [],
      "source": [
        "X = df[['stemmed']]\n",
        "y = df[['label']]"
      ]
    },
    {
      "cell_type": "code",
      "execution_count": 67,
      "metadata": {},
      "outputs": [
        {
          "ename": "NameError",
          "evalue": "name 'TransactionEncoder' is not defined",
          "output_type": "error",
          "traceback": [
            "\u001b[1;31m---------------------------------------------------------------------------\u001b[0m",
            "\u001b[1;31mNameError\u001b[0m                                 Traceback (most recent call last)",
            "\u001b[1;32md:\\KULIAH\\SMT6\\DAMIN\\tugas 3\\Copy_of_tugas1_datmin.ipynb Cell 27\u001b[0m in \u001b[0;36m<cell line: 2>\u001b[1;34m()\u001b[0m\n\u001b[0;32m      <a href='vscode-notebook-cell:/d%3A/KULIAH/SMT6/DAMIN/tugas%203/Copy_of_tugas1_datmin.ipynb#X50sZmlsZQ%3D%3D?line=0'>1</a>\u001b[0m \u001b[39m# Perform one-hot encoding on the tokenized dataset\u001b[39;00m\n\u001b[1;32m----> <a href='vscode-notebook-cell:/d%3A/KULIAH/SMT6/DAMIN/tugas%203/Copy_of_tugas1_datmin.ipynb#X50sZmlsZQ%3D%3D?line=1'>2</a>\u001b[0m te \u001b[39m=\u001b[39m TransactionEncoder()\n\u001b[0;32m      <a href='vscode-notebook-cell:/d%3A/KULIAH/SMT6/DAMIN/tugas%203/Copy_of_tugas1_datmin.ipynb#X50sZmlsZQ%3D%3D?line=2'>3</a>\u001b[0m te_ary \u001b[39m=\u001b[39m te\u001b[39m.\u001b[39mfit(X)\u001b[39m.\u001b[39mtransform(X)\n\u001b[0;32m      <a href='vscode-notebook-cell:/d%3A/KULIAH/SMT6/DAMIN/tugas%203/Copy_of_tugas1_datmin.ipynb#X50sZmlsZQ%3D%3D?line=3'>4</a>\u001b[0m te_ary\n",
            "\u001b[1;31mNameError\u001b[0m: name 'TransactionEncoder' is not defined"
          ]
        }
      ],
      "source": [
        "# Perform one-hot encoding on the tokenized dataset\n",
        "te = TransactionEncoder()\n",
        "te_ary = te.fit(X).transform(X)\n",
        "te_ary\n"
      ]
    },
    {
      "cell_type": "code",
      "execution_count": null,
      "metadata": {},
      "outputs": [],
      "source": []
    },
    {
      "cell_type": "code",
      "execution_count": 54,
      "metadata": {},
      "outputs": [
        {
          "ename": "AttributeError",
          "evalue": "'list' object has no attribute 'lower'",
          "output_type": "error",
          "traceback": [
            "\u001b[1;31m---------------------------------------------------------------------------\u001b[0m",
            "\u001b[1;31mAttributeError\u001b[0m                            Traceback (most recent call last)",
            "\u001b[1;32md:\\KULIAH\\SMT6\\DAMIN\\tugas 3\\Copy_of_tugas1_datmin.ipynb Cell 25\u001b[0m in \u001b[0;36m<cell line: 1>\u001b[1;34m()\u001b[0m\n\u001b[1;32m----> <a href='vscode-notebook-cell:/d%3A/KULIAH/SMT6/DAMIN/tugas%203/Copy_of_tugas1_datmin.ipynb#X42sZmlsZQ%3D%3D?line=0'>1</a>\u001b[0m pipeline\u001b[39m.\u001b[39;49mfit(X_train, y_train)\n",
            "File \u001b[1;32mc:\\Users\\Lenovo\\AppData\\Local\\Programs\\Python\\Python310\\lib\\site-packages\\sklearn\\pipeline.py:401\u001b[0m, in \u001b[0;36mPipeline.fit\u001b[1;34m(self, X, y, **fit_params)\u001b[0m\n\u001b[0;32m    375\u001b[0m \u001b[39m\"\"\"Fit the model.\u001b[39;00m\n\u001b[0;32m    376\u001b[0m \n\u001b[0;32m    377\u001b[0m \u001b[39mFit all the transformers one after the other and transform the\u001b[39;00m\n\u001b[1;32m   (...)\u001b[0m\n\u001b[0;32m    398\u001b[0m \u001b[39m    Pipeline with fitted steps.\u001b[39;00m\n\u001b[0;32m    399\u001b[0m \u001b[39m\"\"\"\u001b[39;00m\n\u001b[0;32m    400\u001b[0m fit_params_steps \u001b[39m=\u001b[39m \u001b[39mself\u001b[39m\u001b[39m.\u001b[39m_check_fit_params(\u001b[39m*\u001b[39m\u001b[39m*\u001b[39mfit_params)\n\u001b[1;32m--> 401\u001b[0m Xt \u001b[39m=\u001b[39m \u001b[39mself\u001b[39m\u001b[39m.\u001b[39m_fit(X, y, \u001b[39m*\u001b[39m\u001b[39m*\u001b[39mfit_params_steps)\n\u001b[0;32m    402\u001b[0m \u001b[39mwith\u001b[39;00m _print_elapsed_time(\u001b[39m\"\u001b[39m\u001b[39mPipeline\u001b[39m\u001b[39m\"\u001b[39m, \u001b[39mself\u001b[39m\u001b[39m.\u001b[39m_log_message(\u001b[39mlen\u001b[39m(\u001b[39mself\u001b[39m\u001b[39m.\u001b[39msteps) \u001b[39m-\u001b[39m \u001b[39m1\u001b[39m)):\n\u001b[0;32m    403\u001b[0m     \u001b[39mif\u001b[39;00m \u001b[39mself\u001b[39m\u001b[39m.\u001b[39m_final_estimator \u001b[39m!=\u001b[39m \u001b[39m\"\u001b[39m\u001b[39mpassthrough\u001b[39m\u001b[39m\"\u001b[39m:\n",
            "File \u001b[1;32mc:\\Users\\Lenovo\\AppData\\Local\\Programs\\Python\\Python310\\lib\\site-packages\\sklearn\\pipeline.py:359\u001b[0m, in \u001b[0;36mPipeline._fit\u001b[1;34m(self, X, y, **fit_params_steps)\u001b[0m\n\u001b[0;32m    357\u001b[0m     cloned_transformer \u001b[39m=\u001b[39m clone(transformer)\n\u001b[0;32m    358\u001b[0m \u001b[39m# Fit or load from cache the current transformer\u001b[39;00m\n\u001b[1;32m--> 359\u001b[0m X, fitted_transformer \u001b[39m=\u001b[39m fit_transform_one_cached(\n\u001b[0;32m    360\u001b[0m     cloned_transformer,\n\u001b[0;32m    361\u001b[0m     X,\n\u001b[0;32m    362\u001b[0m     y,\n\u001b[0;32m    363\u001b[0m     \u001b[39mNone\u001b[39;00m,\n\u001b[0;32m    364\u001b[0m     message_clsname\u001b[39m=\u001b[39m\u001b[39m\"\u001b[39m\u001b[39mPipeline\u001b[39m\u001b[39m\"\u001b[39m,\n\u001b[0;32m    365\u001b[0m     message\u001b[39m=\u001b[39m\u001b[39mself\u001b[39m\u001b[39m.\u001b[39m_log_message(step_idx),\n\u001b[0;32m    366\u001b[0m     \u001b[39m*\u001b[39m\u001b[39m*\u001b[39mfit_params_steps[name],\n\u001b[0;32m    367\u001b[0m )\n\u001b[0;32m    368\u001b[0m \u001b[39m# Replace the transformer of the step with the fitted\u001b[39;00m\n\u001b[0;32m    369\u001b[0m \u001b[39m# transformer. This is necessary when loading the transformer\u001b[39;00m\n\u001b[0;32m    370\u001b[0m \u001b[39m# from the cache.\u001b[39;00m\n\u001b[0;32m    371\u001b[0m \u001b[39mself\u001b[39m\u001b[39m.\u001b[39msteps[step_idx] \u001b[39m=\u001b[39m (name, fitted_transformer)\n",
            "File \u001b[1;32mc:\\Users\\Lenovo\\AppData\\Local\\Programs\\Python\\Python310\\lib\\site-packages\\joblib\\memory.py:349\u001b[0m, in \u001b[0;36mNotMemorizedFunc.__call__\u001b[1;34m(self, *args, **kwargs)\u001b[0m\n\u001b[0;32m    348\u001b[0m \u001b[39mdef\u001b[39;00m \u001b[39m__call__\u001b[39m(\u001b[39mself\u001b[39m, \u001b[39m*\u001b[39margs, \u001b[39m*\u001b[39m\u001b[39m*\u001b[39mkwargs):\n\u001b[1;32m--> 349\u001b[0m     \u001b[39mreturn\u001b[39;00m \u001b[39mself\u001b[39m\u001b[39m.\u001b[39mfunc(\u001b[39m*\u001b[39margs, \u001b[39m*\u001b[39m\u001b[39m*\u001b[39mkwargs)\n",
            "File \u001b[1;32mc:\\Users\\Lenovo\\AppData\\Local\\Programs\\Python\\Python310\\lib\\site-packages\\sklearn\\pipeline.py:893\u001b[0m, in \u001b[0;36m_fit_transform_one\u001b[1;34m(transformer, X, y, weight, message_clsname, message, **fit_params)\u001b[0m\n\u001b[0;32m    891\u001b[0m \u001b[39mwith\u001b[39;00m _print_elapsed_time(message_clsname, message):\n\u001b[0;32m    892\u001b[0m     \u001b[39mif\u001b[39;00m \u001b[39mhasattr\u001b[39m(transformer, \u001b[39m\"\u001b[39m\u001b[39mfit_transform\u001b[39m\u001b[39m\"\u001b[39m):\n\u001b[1;32m--> 893\u001b[0m         res \u001b[39m=\u001b[39m transformer\u001b[39m.\u001b[39mfit_transform(X, y, \u001b[39m*\u001b[39m\u001b[39m*\u001b[39mfit_params)\n\u001b[0;32m    894\u001b[0m     \u001b[39melse\u001b[39;00m:\n\u001b[0;32m    895\u001b[0m         res \u001b[39m=\u001b[39m transformer\u001b[39m.\u001b[39mfit(X, y, \u001b[39m*\u001b[39m\u001b[39m*\u001b[39mfit_params)\u001b[39m.\u001b[39mtransform(X)\n",
            "File \u001b[1;32mc:\\Users\\Lenovo\\AppData\\Local\\Programs\\Python\\Python310\\lib\\site-packages\\sklearn\\feature_extraction\\text.py:2133\u001b[0m, in \u001b[0;36mTfidfVectorizer.fit_transform\u001b[1;34m(self, raw_documents, y)\u001b[0m\n\u001b[0;32m   2126\u001b[0m \u001b[39mself\u001b[39m\u001b[39m.\u001b[39m_check_params()\n\u001b[0;32m   2127\u001b[0m \u001b[39mself\u001b[39m\u001b[39m.\u001b[39m_tfidf \u001b[39m=\u001b[39m TfidfTransformer(\n\u001b[0;32m   2128\u001b[0m     norm\u001b[39m=\u001b[39m\u001b[39mself\u001b[39m\u001b[39m.\u001b[39mnorm,\n\u001b[0;32m   2129\u001b[0m     use_idf\u001b[39m=\u001b[39m\u001b[39mself\u001b[39m\u001b[39m.\u001b[39muse_idf,\n\u001b[0;32m   2130\u001b[0m     smooth_idf\u001b[39m=\u001b[39m\u001b[39mself\u001b[39m\u001b[39m.\u001b[39msmooth_idf,\n\u001b[0;32m   2131\u001b[0m     sublinear_tf\u001b[39m=\u001b[39m\u001b[39mself\u001b[39m\u001b[39m.\u001b[39msublinear_tf,\n\u001b[0;32m   2132\u001b[0m )\n\u001b[1;32m-> 2133\u001b[0m X \u001b[39m=\u001b[39m \u001b[39msuper\u001b[39;49m()\u001b[39m.\u001b[39;49mfit_transform(raw_documents)\n\u001b[0;32m   2134\u001b[0m \u001b[39mself\u001b[39m\u001b[39m.\u001b[39m_tfidf\u001b[39m.\u001b[39mfit(X)\n\u001b[0;32m   2135\u001b[0m \u001b[39m# X is already a transformed view of raw_documents so\u001b[39;00m\n\u001b[0;32m   2136\u001b[0m \u001b[39m# we set copy to False\u001b[39;00m\n",
            "File \u001b[1;32mc:\\Users\\Lenovo\\AppData\\Local\\Programs\\Python\\Python310\\lib\\site-packages\\sklearn\\feature_extraction\\text.py:1388\u001b[0m, in \u001b[0;36mCountVectorizer.fit_transform\u001b[1;34m(self, raw_documents, y)\u001b[0m\n\u001b[0;32m   1380\u001b[0m             warnings\u001b[39m.\u001b[39mwarn(\n\u001b[0;32m   1381\u001b[0m                 \u001b[39m\"\u001b[39m\u001b[39mUpper case characters found in\u001b[39m\u001b[39m\"\u001b[39m\n\u001b[0;32m   1382\u001b[0m                 \u001b[39m\"\u001b[39m\u001b[39m vocabulary while \u001b[39m\u001b[39m'\u001b[39m\u001b[39mlowercase\u001b[39m\u001b[39m'\u001b[39m\u001b[39m\"\u001b[39m\n\u001b[0;32m   1383\u001b[0m                 \u001b[39m\"\u001b[39m\u001b[39m is True. These entries will not\u001b[39m\u001b[39m\"\u001b[39m\n\u001b[0;32m   1384\u001b[0m                 \u001b[39m\"\u001b[39m\u001b[39m be matched with any documents\u001b[39m\u001b[39m\"\u001b[39m\n\u001b[0;32m   1385\u001b[0m             )\n\u001b[0;32m   1386\u001b[0m             \u001b[39mbreak\u001b[39;00m\n\u001b[1;32m-> 1388\u001b[0m vocabulary, X \u001b[39m=\u001b[39m \u001b[39mself\u001b[39;49m\u001b[39m.\u001b[39;49m_count_vocab(raw_documents, \u001b[39mself\u001b[39;49m\u001b[39m.\u001b[39;49mfixed_vocabulary_)\n\u001b[0;32m   1390\u001b[0m \u001b[39mif\u001b[39;00m \u001b[39mself\u001b[39m\u001b[39m.\u001b[39mbinary:\n\u001b[0;32m   1391\u001b[0m     X\u001b[39m.\u001b[39mdata\u001b[39m.\u001b[39mfill(\u001b[39m1\u001b[39m)\n",
            "File \u001b[1;32mc:\\Users\\Lenovo\\AppData\\Local\\Programs\\Python\\Python310\\lib\\site-packages\\sklearn\\feature_extraction\\text.py:1275\u001b[0m, in \u001b[0;36mCountVectorizer._count_vocab\u001b[1;34m(self, raw_documents, fixed_vocab)\u001b[0m\n\u001b[0;32m   1273\u001b[0m \u001b[39mfor\u001b[39;00m doc \u001b[39min\u001b[39;00m raw_documents:\n\u001b[0;32m   1274\u001b[0m     feature_counter \u001b[39m=\u001b[39m {}\n\u001b[1;32m-> 1275\u001b[0m     \u001b[39mfor\u001b[39;00m feature \u001b[39min\u001b[39;00m analyze(doc):\n\u001b[0;32m   1276\u001b[0m         \u001b[39mtry\u001b[39;00m:\n\u001b[0;32m   1277\u001b[0m             feature_idx \u001b[39m=\u001b[39m vocabulary[feature]\n",
            "File \u001b[1;32mc:\\Users\\Lenovo\\AppData\\Local\\Programs\\Python\\Python310\\lib\\site-packages\\sklearn\\feature_extraction\\text.py:111\u001b[0m, in \u001b[0;36m_analyze\u001b[1;34m(doc, analyzer, tokenizer, ngrams, preprocessor, decoder, stop_words)\u001b[0m\n\u001b[0;32m    109\u001b[0m \u001b[39melse\u001b[39;00m:\n\u001b[0;32m    110\u001b[0m     \u001b[39mif\u001b[39;00m preprocessor \u001b[39mis\u001b[39;00m \u001b[39mnot\u001b[39;00m \u001b[39mNone\u001b[39;00m:\n\u001b[1;32m--> 111\u001b[0m         doc \u001b[39m=\u001b[39m preprocessor(doc)\n\u001b[0;32m    112\u001b[0m     \u001b[39mif\u001b[39;00m tokenizer \u001b[39mis\u001b[39;00m \u001b[39mnot\u001b[39;00m \u001b[39mNone\u001b[39;00m:\n\u001b[0;32m    113\u001b[0m         doc \u001b[39m=\u001b[39m tokenizer(doc)\n",
            "File \u001b[1;32mc:\\Users\\Lenovo\\AppData\\Local\\Programs\\Python\\Python310\\lib\\site-packages\\sklearn\\feature_extraction\\text.py:69\u001b[0m, in \u001b[0;36m_preprocess\u001b[1;34m(doc, accent_function, lower)\u001b[0m\n\u001b[0;32m     50\u001b[0m \u001b[39m\"\"\"Chain together an optional series of text preprocessing steps to\u001b[39;00m\n\u001b[0;32m     51\u001b[0m \u001b[39mapply to a document.\u001b[39;00m\n\u001b[0;32m     52\u001b[0m \n\u001b[1;32m   (...)\u001b[0m\n\u001b[0;32m     66\u001b[0m \u001b[39m    preprocessed string\u001b[39;00m\n\u001b[0;32m     67\u001b[0m \u001b[39m\"\"\"\u001b[39;00m\n\u001b[0;32m     68\u001b[0m \u001b[39mif\u001b[39;00m lower:\n\u001b[1;32m---> 69\u001b[0m     doc \u001b[39m=\u001b[39m doc\u001b[39m.\u001b[39;49mlower()\n\u001b[0;32m     70\u001b[0m \u001b[39mif\u001b[39;00m accent_function \u001b[39mis\u001b[39;00m \u001b[39mnot\u001b[39;00m \u001b[39mNone\u001b[39;00m:\n\u001b[0;32m     71\u001b[0m     doc \u001b[39m=\u001b[39m accent_function(doc)\n",
            "\u001b[1;31mAttributeError\u001b[0m: 'list' object has no attribute 'lower'"
          ]
        }
      ],
      "source": [
        "pipeline.fit(X_train, y_train)"
      ]
    },
    {
      "cell_type": "code",
      "execution_count": null,
      "metadata": {},
      "outputs": [],
      "source": []
    },
    {
      "cell_type": "code",
      "execution_count": 25,
      "metadata": {},
      "outputs": [
        {
          "ename": "NotFittedError",
          "evalue": "Vocabulary not fitted or provided",
          "output_type": "error",
          "traceback": [
            "\u001b[1;31m---------------------------------------------------------------------------\u001b[0m",
            "\u001b[1;31mNotFittedError\u001b[0m                            Traceback (most recent call last)",
            "\u001b[1;32md:\\KULIAH\\SMT6\\DAMIN\\tugas 3\\Copy_of_tugas1_datmin.ipynb Cell 28\u001b[0m in \u001b[0;36m<cell line: 1>\u001b[1;34m()\u001b[0m\n\u001b[1;32m----> <a href='vscode-notebook-cell:/d%3A/KULIAH/SMT6/DAMIN/tugas%203/Copy_of_tugas1_datmin.ipynb#X43sZmlsZQ%3D%3D?line=0'>1</a>\u001b[0m predictions \u001b[39m=\u001b[39m pipeline\u001b[39m.\u001b[39;49mpredict(X_test)\n",
            "File \u001b[1;32mc:\\Users\\Lenovo\\AppData\\Local\\Programs\\Python\\Python310\\lib\\site-packages\\sklearn\\pipeline.py:480\u001b[0m, in \u001b[0;36mPipeline.predict\u001b[1;34m(self, X, **predict_params)\u001b[0m\n\u001b[0;32m    478\u001b[0m Xt \u001b[39m=\u001b[39m X\n\u001b[0;32m    479\u001b[0m \u001b[39mfor\u001b[39;00m _, name, transform \u001b[39min\u001b[39;00m \u001b[39mself\u001b[39m\u001b[39m.\u001b[39m_iter(with_final\u001b[39m=\u001b[39m\u001b[39mFalse\u001b[39;00m):\n\u001b[1;32m--> 480\u001b[0m     Xt \u001b[39m=\u001b[39m transform\u001b[39m.\u001b[39;49mtransform(Xt)\n\u001b[0;32m    481\u001b[0m \u001b[39mreturn\u001b[39;00m \u001b[39mself\u001b[39m\u001b[39m.\u001b[39msteps[\u001b[39m-\u001b[39m\u001b[39m1\u001b[39m][\u001b[39m1\u001b[39m]\u001b[39m.\u001b[39mpredict(Xt, \u001b[39m*\u001b[39m\u001b[39m*\u001b[39mpredict_params)\n",
            "File \u001b[1;32mc:\\Users\\Lenovo\\AppData\\Local\\Programs\\Python\\Python310\\lib\\site-packages\\sklearn\\feature_extraction\\text.py:2157\u001b[0m, in \u001b[0;36mTfidfVectorizer.transform\u001b[1;34m(self, raw_documents)\u001b[0m\n\u001b[0;32m   2140\u001b[0m \u001b[39m\"\"\"Transform documents to document-term matrix.\u001b[39;00m\n\u001b[0;32m   2141\u001b[0m \n\u001b[0;32m   2142\u001b[0m \u001b[39mUses the vocabulary and document frequencies (df) learned by fit (or\u001b[39;00m\n\u001b[1;32m   (...)\u001b[0m\n\u001b[0;32m   2153\u001b[0m \u001b[39m    Tf-idf-weighted document-term matrix.\u001b[39;00m\n\u001b[0;32m   2154\u001b[0m \u001b[39m\"\"\"\u001b[39;00m\n\u001b[0;32m   2155\u001b[0m check_is_fitted(\u001b[39mself\u001b[39m, msg\u001b[39m=\u001b[39m\u001b[39m\"\u001b[39m\u001b[39mThe TF-IDF vectorizer is not fitted\u001b[39m\u001b[39m\"\u001b[39m)\n\u001b[1;32m-> 2157\u001b[0m X \u001b[39m=\u001b[39m \u001b[39msuper\u001b[39;49m()\u001b[39m.\u001b[39;49mtransform(raw_documents)\n\u001b[0;32m   2158\u001b[0m \u001b[39mreturn\u001b[39;00m \u001b[39mself\u001b[39m\u001b[39m.\u001b[39m_tfidf\u001b[39m.\u001b[39mtransform(X, copy\u001b[39m=\u001b[39m\u001b[39mFalse\u001b[39;00m)\n",
            "File \u001b[1;32mc:\\Users\\Lenovo\\AppData\\Local\\Programs\\Python\\Python310\\lib\\site-packages\\sklearn\\feature_extraction\\text.py:1430\u001b[0m, in \u001b[0;36mCountVectorizer.transform\u001b[1;34m(self, raw_documents)\u001b[0m\n\u001b[0;32m   1426\u001b[0m \u001b[39mif\u001b[39;00m \u001b[39misinstance\u001b[39m(raw_documents, \u001b[39mstr\u001b[39m):\n\u001b[0;32m   1427\u001b[0m     \u001b[39mraise\u001b[39;00m \u001b[39mValueError\u001b[39;00m(\n\u001b[0;32m   1428\u001b[0m         \u001b[39m\"\u001b[39m\u001b[39mIterable over raw text documents expected, string object received.\u001b[39m\u001b[39m\"\u001b[39m\n\u001b[0;32m   1429\u001b[0m     )\n\u001b[1;32m-> 1430\u001b[0m \u001b[39mself\u001b[39;49m\u001b[39m.\u001b[39;49m_check_vocabulary()\n\u001b[0;32m   1432\u001b[0m \u001b[39m# use the same matrix-building strategy as fit_transform\u001b[39;00m\n\u001b[0;32m   1433\u001b[0m _, X \u001b[39m=\u001b[39m \u001b[39mself\u001b[39m\u001b[39m.\u001b[39m_count_vocab(raw_documents, fixed_vocab\u001b[39m=\u001b[39m\u001b[39mTrue\u001b[39;00m)\n",
            "File \u001b[1;32mc:\\Users\\Lenovo\\AppData\\Local\\Programs\\Python\\Python310\\lib\\site-packages\\sklearn\\feature_extraction\\text.py:510\u001b[0m, in \u001b[0;36m_VectorizerMixin._check_vocabulary\u001b[1;34m(self)\u001b[0m\n\u001b[0;32m    508\u001b[0m     \u001b[39mself\u001b[39m\u001b[39m.\u001b[39m_validate_vocabulary()\n\u001b[0;32m    509\u001b[0m     \u001b[39mif\u001b[39;00m \u001b[39mnot\u001b[39;00m \u001b[39mself\u001b[39m\u001b[39m.\u001b[39mfixed_vocabulary_:\n\u001b[1;32m--> 510\u001b[0m         \u001b[39mraise\u001b[39;00m NotFittedError(\u001b[39m\"\u001b[39m\u001b[39mVocabulary not fitted or provided\u001b[39m\u001b[39m\"\u001b[39m)\n\u001b[0;32m    512\u001b[0m \u001b[39mif\u001b[39;00m \u001b[39mlen\u001b[39m(\u001b[39mself\u001b[39m\u001b[39m.\u001b[39mvocabulary_) \u001b[39m==\u001b[39m \u001b[39m0\u001b[39m:\n\u001b[0;32m    513\u001b[0m     \u001b[39mraise\u001b[39;00m \u001b[39mValueError\u001b[39;00m(\u001b[39m\"\u001b[39m\u001b[39mVocabulary is empty\u001b[39m\u001b[39m\"\u001b[39m)\n",
            "\u001b[1;31mNotFittedError\u001b[0m: Vocabulary not fitted or provided"
          ]
        }
      ],
      "source": [
        "predictions = pipeline.predict(X_test)"
      ]
    },
    {
      "cell_type": "code",
      "execution_count": 26,
      "metadata": {},
      "outputs": [
        {
          "ename": "NameError",
          "evalue": "name 'predictions' is not defined",
          "output_type": "error",
          "traceback": [
            "\u001b[1;31m---------------------------------------------------------------------------\u001b[0m",
            "\u001b[1;31mNameError\u001b[0m                                 Traceback (most recent call last)",
            "\u001b[1;32md:\\KULIAH\\SMT6\\DAMIN\\tugas 3\\Copy_of_tugas1_datmin.ipynb Cell 29\u001b[0m in \u001b[0;36m<cell line: 3>\u001b[1;34m()\u001b[0m\n\u001b[0;32m      <a href='vscode-notebook-cell:/d%3A/KULIAH/SMT6/DAMIN/tugas%203/Copy_of_tugas1_datmin.ipynb#X41sZmlsZQ%3D%3D?line=0'>1</a>\u001b[0m \u001b[39mfrom\u001b[39;00m \u001b[39msklearn\u001b[39;00m\u001b[39m.\u001b[39;00m\u001b[39mmetrics\u001b[39;00m \u001b[39mimport\u001b[39;00m accuracy_score, classification_report\n\u001b[1;32m----> <a href='vscode-notebook-cell:/d%3A/KULIAH/SMT6/DAMIN/tugas%203/Copy_of_tugas1_datmin.ipynb#X41sZmlsZQ%3D%3D?line=2'>3</a>\u001b[0m accuracy \u001b[39m=\u001b[39m accuracy_score(y_test, predictions)\n\u001b[0;32m      <a href='vscode-notebook-cell:/d%3A/KULIAH/SMT6/DAMIN/tugas%203/Copy_of_tugas1_datmin.ipynb#X41sZmlsZQ%3D%3D?line=3'>4</a>\u001b[0m report \u001b[39m=\u001b[39m classification_report(y_test, predictions)\n",
            "\u001b[1;31mNameError\u001b[0m: name 'predictions' is not defined"
          ]
        }
      ],
      "source": [
        "from sklearn.metrics import accuracy_score, classification_report\n",
        "\n",
        "accuracy = accuracy_score(y_test, predictions)\n",
        "report = classification_report(y_test, predictions)"
      ]
    }
  ],
  "metadata": {
    "colab": {
      "provenance": []
    },
    "kernelspec": {
      "display_name": "Python 3",
      "name": "python3"
    },
    "language_info": {
      "codemirror_mode": {
        "name": "ipython",
        "version": 3
      },
      "file_extension": ".py",
      "mimetype": "text/x-python",
      "name": "python",
      "nbconvert_exporter": "python",
      "pygments_lexer": "ipython3",
      "version": "3.10.2"
    }
  },
  "nbformat": 4,
  "nbformat_minor": 0
}
